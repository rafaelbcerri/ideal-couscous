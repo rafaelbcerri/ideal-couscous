{
 "cells": [
  {
   "cell_type": "code",
   "execution_count": 1,
   "id": "3f86cbfa-121f-4457-b7be-fd881d558c0f",
   "metadata": {},
   "outputs": [],
   "source": [
    "import requests, zipfile, io\n",
    "import pandas as pd\n",
    "import os\n",
    "import glob\n",
    "from datetime import datetime\n",
    "import shutil"
   ]
  },
  {
   "cell_type": "code",
   "execution_count": 2,
   "id": "db594452-86a8-4bbf-8ae3-368c68d1f0f1",
   "metadata": {},
   "outputs": [],
   "source": [
    "symbol = 'BNBBUSD'\n",
    "months = ['01', '02', '03', '04', '05', '06', '07', '08', '09', '10']\n",
    "\n",
    "for month in months:\n",
    "    url = f'https://data.binance.vision/data/spot/monthly/klines/{symbol}/5m/{symbol}-5m-2021-{month}.zip'\n",
    "    response = requests.get(url)\n",
    "    zippedFile = zipfile.ZipFile(io.BytesIO(response.content))\n",
    "    zippedFile.extractall(\"./temp\")\n"
   ]
  },
  {
   "cell_type": "code",
   "execution_count": 3,
   "id": "aa2b6fe6-0739-47d8-8d92-6daf65cfd3f6",
   "metadata": {},
   "outputs": [],
   "source": [
    "csv_files = glob.glob(os.path.join(os.getcwd() + '/temp', \"*.csv\"))"
   ]
  },
  {
   "cell_type": "code",
   "execution_count": 4,
   "id": "7564ac71-dc7f-4441-a2e0-a30c77cc0194",
   "metadata": {},
   "outputs": [],
   "source": [
    "dataframe = pd.DataFrame(data = {\n",
    "    'open time': [],\n",
    "    'open': [],\n",
    "    'high': [],\n",
    "    'low': [],\n",
    "    'close': [],\n",
    "})\n",
    "\n",
    "for f in csv_files:\n",
    "    new_df = pd.read_csv(f)\n",
    "    new_df.columns = [\n",
    "        'open time',\n",
    "        'open',\n",
    "        'high',\n",
    "        'low',\n",
    "        'close',\n",
    "        'Volume',\n",
    "        'Close time',\n",
    "        'Quote asset volume',\n",
    "        'Number of trades',\n",
    "        'Taker buy base asset volume',\n",
    "        'Taker buy quote asset volume',\n",
    "        'Ignore.'\n",
    "    ]\n",
    "\n",
    "    new_df['open time'] = new_df['open time'].apply(lambda time: datetime.utcfromtimestamp(time / 1000))\n",
    "    new_df['open'] = new_df['open'].apply(lambda value: float(value))\n",
    "    new_df['high'] = new_df['high'].apply(lambda value: float(value))\n",
    "    new_df['low'] = new_df['low'].apply(lambda value: float(value))\n",
    "    new_df['close'] = new_df['close'].apply(lambda value: float(value))\n",
    "    \n",
    "    new_df.drop([\n",
    "        'Volume',\n",
    "        'Close time',\n",
    "        'Quote asset volume',\n",
    "        'Number of trades',\n",
    "        'Taker buy base asset volume',\n",
    "        'Taker buy quote asset volume',\n",
    "        'Ignore.'\n",
    "    ], axis=1, inplace=True)\n",
    "    \n",
    "    dataframe = dataframe.append(new_df, ignore_index=True)"
   ]
  },
  {
   "cell_type": "code",
   "execution_count": 5,
   "id": "dd5254d2-750f-4fe6-8b56-f134da795995",
   "metadata": {},
   "outputs": [],
   "source": [
    "dataframe = dataframe.sort_values(by='open time')"
   ]
  },
  {
   "cell_type": "code",
   "execution_count": 6,
   "id": "547f366d-809f-42b7-9094-8c13889929ab",
   "metadata": {},
   "outputs": [],
   "source": [
    "dataframe.to_csv(f\"{symbol}-5m.csv\", index=False)"
   ]
  },
  {
   "cell_type": "code",
   "execution_count": 7,
   "id": "adf2355c-4847-439f-ab30-cd90ece9529d",
   "metadata": {},
   "outputs": [],
   "source": [
    "shutil.rmtree(os.getcwd() + '/temp')"
   ]
  }
 ],
 "metadata": {
  "kernelspec": {
   "display_name": "Python 3 (ipykernel)",
   "language": "python",
   "name": "python3"
  },
  "language_info": {
   "codemirror_mode": {
    "name": "ipython",
    "version": 3
   },
   "file_extension": ".py",
   "mimetype": "text/x-python",
   "name": "python",
   "nbconvert_exporter": "python",
   "pygments_lexer": "ipython3",
   "version": "3.8.10"
  }
 },
 "nbformat": 4,
 "nbformat_minor": 5
}
