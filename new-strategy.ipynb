{
 "cells": [
  {
   "cell_type": "code",
   "execution_count": 1,
   "id": "ebc287d7",
   "metadata": {},
   "outputs": [],
   "source": [
    "import pandas as pd\n",
    "import numpy as np\n",
    "from datetime import datetime\n",
    "import matplotlib.pyplot as plt\n",
    "import requests\n",
    "from talib import abstract\n",
    "import math\n",
    "\n",
    "plt.style.use('fivethirtyeight')"
   ]
  },
  {
   "cell_type": "code",
   "execution_count": 2,
   "id": "7d6592ad",
   "metadata": {},
   "outputs": [],
   "source": [
    "data = pd.read_csv('data.csv')\n",
    "# data = data.iloc[-40880:-1]\n",
    "# data = data.reset_index()\n",
    "# dataframe"
   ]
  },
  {
   "cell_type": "code",
   "execution_count": 3,
   "id": "ad5f8776",
   "metadata": {},
   "outputs": [],
   "source": [
    "data['sma50'] = abstract.SMA(data, timeperiod=50)\n",
    "data['sma20'] = abstract.SMA(data, timeperiod=20)\n",
    "# data['sma150'] = abstract.SMA(data, timeperiod=150)"
   ]
  },
  {
   "cell_type": "code",
   "execution_count": 4,
   "id": "74fe07b1",
   "metadata": {},
   "outputs": [],
   "source": [
    "money = 1000\n",
    "sigPriceBuy = []\n",
    "sigPriceSell = []\n",
    "\n",
    "earns = pd.DataFrame(data = {\n",
    "    'buy time': [],\n",
    "    'buy': [],\n",
    "    'sell': [],\n",
    "    'sell time': [],\n",
    "    'earn': [],\n",
    "})\n",
    "\n",
    "flag = 'sold'\n",
    "\n",
    "for i in range(len(data)):\n",
    "    if i <= 150:\n",
    "        sigPriceBuy.append(np.nan)\n",
    "        sigPriceSell.append(np.nan)\n",
    "        continue\n",
    "\n",
    "    #SELL\n",
    "    if flag == 'bought':\n",
    "        last_40_prices = data.iloc[i - 41: i - 1]['close']\n",
    "        higher_price = max(last_40_prices)\n",
    "        \n",
    "        rowIndex = earns[earns['buy'].notna() & earns['sell'].isna()].index.item()\n",
    "        \n",
    "        if data['close'][i] > higher_price:\n",
    "            \n",
    "            sigPriceBuy.append(np.nan)\n",
    "            sigPriceSell.append(data['close'][i])\n",
    "            flag = 'sold'\n",
    "            earns.loc[rowIndex, 'sell'] = data['close'][i]\n",
    "            earns.loc[rowIndex, 'earn'] = data['close'][i] - earns.loc[rowIndex, 'buy'] \n",
    "            earns.loc[rowIndex, 'sell time'] = data['open time'][i]\n",
    "            continue\n",
    "            \n",
    "        variation = (data['close'][i] / earns['buy'][rowIndex]) - 1\n",
    "            \n",
    "        if variation <= -0.01:\n",
    "            sigPriceBuy.append(np.nan)\n",
    "            sigPriceSell.append(data['close'][i])\n",
    "            flag = 'sold'\n",
    "            earns.loc[rowIndex, 'sell'] = data['close'][i]\n",
    "            earns.loc[rowIndex, 'earn'] = data['close'][i] - earns.loc[rowIndex, 'buy'] \n",
    "            earns.loc[rowIndex, 'sell time'] = data['open time'][i]\n",
    "            continue\n",
    "        \n",
    "        sigPriceBuy.append(np.nan)\n",
    "        sigPriceSell.append(np.nan)\n",
    "        continue\n",
    "\n",
    "\n",
    "\n",
    "\n",
    "\n",
    "    # BUY                 \n",
    "    initial_value = data.iloc[i-150]\n",
    "    current_value = data.iloc[i]\n",
    "\n",
    "    is_price_going_down = initial_value['close'] >= current_value['close']\n",
    "\n",
    "    if is_price_going_down:\n",
    "        sigPriceBuy.append(np.nan)\n",
    "        sigPriceSell.append(np.nan)\n",
    "        continue\n",
    "\n",
    "    tangent = (data['sma150'][i] - data['sma150'][i-150]) / 150 \n",
    "    tendency_degrees = math.degrees(math.atan(tangent))\n",
    "    is_bull_tendency = tendency_degrees > 1\n",
    "\n",
    "    if not is_bull_tendency:\n",
    "        sigPriceBuy.append(np.nan)\n",
    "        sigPriceSell.append(np.nan)\n",
    "        continue\n",
    "    \n",
    "    \n",
    "    if current_value['close'] <= data['sma50'][i]:\n",
    "        if flag == 'sold':\n",
    "            sigPriceBuy.append(data['close'][i])\n",
    "            sigPriceSell.append(np.nan)\n",
    "\n",
    "            flag = 'bought'\n",
    "            earns = earns.append({ \n",
    "                'buy': data['close'][i],\n",
    "                'buy time': data['open time'][i]\n",
    "            }, ignore_index=True)\n",
    "            continue\n",
    "\n",
    "\n",
    "    sigPriceBuy.append(np.nan)\n",
    "    sigPriceSell.append(np.nan)"
   ]
  },
  {
   "cell_type": "code",
   "execution_count": 5,
   "id": "c87a9e70",
   "metadata": {},
   "outputs": [
    {
     "name": "stdout",
     "output_type": "stream",
     "text": [
      "Lucro 2.6000000000000227\n",
      "Quantidade 2\n",
      "Porcentagem 100.0%\n",
      "-------\n"
     ]
    }
   ],
   "source": [
    "print('Lucro', earns['earn'].sum())\n",
    "total = earns['earn'].count()\n",
    "print('Quantidade', earns['earn'].count())\n",
    "wins = earns[earns['earn'] > 0].count()\n",
    "p = (wins/total)['earn'] * 100\n",
    "print(f'Porcentagem {p}%')\n",
    "print('-------')"
   ]
  },
  {
   "cell_type": "code",
   "execution_count": 6,
   "id": "e2d4bbc4",
   "metadata": {},
   "outputs": [],
   "source": [
    "# df = dataframe.iloc[0:10]\n",
    "# print(df)\n",
    "# plt.figure(figsize = (50, 12.5))\n",
    "# plt.plot(df['open time'], df['close'], label = 'BNB/BTC', alpha=0.30)\n",
    "# plt.plot(df['open time'], df['sma3'], label = 'SMA 30', alpha=0.30)\n",
    "# plt.plot(df['open time'], df['sma9'], label = 'SMA 30', alpha=0.30)\n",
    "# plt.plot(df['open time'], df['sma20'], label = 'SMA 30', alpha=0.30)\n",
    "# plt.plot(df['open time'], df['sma150'], label = 'SMA 100', alpha=0.30)\n",
    "# plt.scatter(df['open time'], df['buy'], label = 'Buy', marker = '^', color = 'green')\n",
    "# plt.scatter(df['open time'], df['sell'], label = 'Sell', marker = 'v', color = 'red')\n",
    "# plt.title('BNB/BTC Close price')\n",
    "# plt.xlabel('Date')\n",
    "# plt.ylabel('Close price')\n",
    "# # plt.legend(loc='upper left')\n",
    "# plt.show()"
   ]
  },
  {
   "cell_type": "code",
   "execution_count": 7,
   "id": "e7a93cd6",
   "metadata": {},
   "outputs": [],
   "source": [
    "earns = earns[earns['buy'].notna() | earns['sell'].notna()]\n",
    "earns.to_csv(\"result.csv\", index=False)"
   ]
  },
  {
   "cell_type": "code",
   "execution_count": null,
   "id": "ee47799e",
   "metadata": {},
   "outputs": [],
   "source": []
  }
 ],
 "metadata": {
  "kernelspec": {
   "display_name": "Python 3 (ipykernel)",
   "language": "python",
   "name": "python3"
  },
  "language_info": {
   "codemirror_mode": {
    "name": "ipython",
    "version": 3
   },
   "file_extension": ".py",
   "mimetype": "text/x-python",
   "name": "python",
   "nbconvert_exporter": "python",
   "pygments_lexer": "ipython3",
   "version": "3.8.10"
  }
 },
 "nbformat": 4,
 "nbformat_minor": 5
}
